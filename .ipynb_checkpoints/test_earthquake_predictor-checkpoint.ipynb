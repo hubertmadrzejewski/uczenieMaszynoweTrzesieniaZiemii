{
 "cells": [
  {
   "cell_type": "code",
   "execution_count": 1,
   "id": "dea0578f-1c09-49b4-b61e-cab4526f2294",
   "metadata": {
    "tags": []
   },
   "outputs": [
    {
     "ename": "ModuleNotFoundError",
     "evalue": "No module named 'earthquake_predictor'",
     "output_type": "error",
     "traceback": [
      "\u001b[0;31m---------------------------------------------------------------------------\u001b[0m",
      "\u001b[0;31mModuleNotFoundError\u001b[0m                       Traceback (most recent call last)",
      "Cell \u001b[0;32mIn[1], line 16\u001b[0m\n\u001b[1;32m     13\u001b[0m \u001b[38;5;28;01mfrom\u001b[39;00m \u001b[38;5;21;01msklearn\u001b[39;00m \u001b[38;5;28;01mimport\u001b[39;00m metrics\n\u001b[1;32m     15\u001b[0m \u001b[38;5;66;03m# Import the EarthquakePredictor class from the main code file\u001b[39;00m\n\u001b[0;32m---> 16\u001b[0m \u001b[38;5;28;01mfrom\u001b[39;00m \u001b[38;5;21;01mearthquake_predictor\u001b[39;00m \u001b[38;5;28;01mimport\u001b[39;00m EarthquakePredictor\n\u001b[1;32m     18\u001b[0m \u001b[38;5;66;03m# Define a test class\u001b[39;00m\n\u001b[1;32m     19\u001b[0m \u001b[38;5;28;01mclass\u001b[39;00m \u001b[38;5;21;01mTestEarthquakePredictor\u001b[39;00m(unittest\u001b[38;5;241m.\u001b[39mTestCase):\n",
      "\u001b[0;31mModuleNotFoundError\u001b[0m: No module named 'earthquake_predictor'"
     ]
    }
   ],
   "source": [
    "import sys\n",
    "sys.path.append('Projects/Personal/uczenieMaszynoweTrzesieniaZiemii/earthquake_predictor.ipynb')\n",
    "%run -i earthquake_predictor.ipynb\n",
    "\n",
    "# Import necessary libraries\n",
    "import unittest\n",
    "import pandas as pd\n",
    "\n",
    "# Import additional libraries needed for tests\n",
    "from sklearn.model_selection import train_test_split\n",
    "from sklearn.linear_model import LinearRegression\n",
    "from sklearn.ensemble import RandomForestRegressor\n",
    "from sklearn import metrics\n",
    "\n",
    "# Import the EarthquakePredictor class from the main code file\n",
    "from earthquake_predictor import EarthquakePredictor\n",
    "\n",
    "# Define a test class\n",
    "class TestEarthquakePredictor(unittest.TestCase):\n",
    "    def setUp(self):\n",
    "        # Create a sample DataFrame for testing\n",
    "        data = {\n",
    "            'Latitude': [0, 1, 2, 3, 4],\n",
    "            'Longitude': [10, 11, 12, 13, 14],\n",
    "            'Magnitude': [1.0, 2.0, 3.0, 4.0, 5.0]\n",
    "        }\n",
    "        self.sample_df = pd.DataFrame(data)\n",
    "\n",
    "    def test_prepare_data(self):\n",
    "        # Test if the prepare_data method returns expected shapes\n",
    "        earthquake_predictor = EarthquakePredictor(None)  # Passing None as data_path since it's not needed for this test\n",
    "        earthquake_predictor.earthquake_data = self.sample_df\n",
    "        X_train, X_test, y_train, y_test = earthquake_predictor._prepare_data()\n",
    "\n",
    "        self.assertEqual(X_train.shape[0], y_train.shape[0])\n",
    "        self.assertEqual(X_test.shape[0], y_test.shape[0])\n",
    "\n",
    "    def test_train_linear_regression(self):\n",
    "        # Test if linear regression training works\n",
    "        earthquake_predictor = EarthquakePredictor(None)\n",
    "        earthquake_predictor.X_train = self.sample_df[['Latitude', 'Longitude']].to_numpy()\n",
    "        earthquake_predictor.y_train = self.sample_df['Magnitude'].to_numpy()\n",
    "        earthquake_predictor.train_linear_regression()\n",
    "\n",
    "        self.assertIsNotNone(earthquake_predictor.trained_regressor)\n",
    "\n",
    "    def test_train_random_forest(self):\n",
    "        # Test if random forest training works\n",
    "        earthquake_predictor = EarthquakePredictor(None)\n",
    "        earthquake_predictor.X_train = self.sample_df[['Latitude', 'Longitude']].to_numpy()\n",
    "        earthquake_predictor.y_train = self.sample_df['Magnitude'].to_numpy()\n",
    "        earthquake_predictor.train_random_forest(n_estimators=10, random_state=0, model_name='Random Forest Test')\n",
    "\n",
    "        self.assertIsNotNone(earthquake_predictor.trained_regressor)\n",
    "\n",
    "# If you are using a Jupyter Notebook, run the tests using the following code:\n",
    "if __name__ == '__main__':\n",
    "    unittest.main(argv=['first-arg-is-ignored'], exit=False)\n"
   ]
  },
  {
   "cell_type": "code",
   "execution_count": null,
   "id": "632da3f1-ba40-4411-92fe-06238fc11b26",
   "metadata": {},
   "outputs": [],
   "source": []
  },
  {
   "cell_type": "code",
   "execution_count": null,
   "id": "bc3cdd0e-646a-4371-9e8d-e481f34caeb7",
   "metadata": {},
   "outputs": [],
   "source": []
  }
 ],
 "metadata": {
  "kernelspec": {
   "display_name": "Python 3 (ipykernel)",
   "language": "python",
   "name": "python3"
  },
  "language_info": {
   "codemirror_mode": {
    "name": "ipython",
    "version": 3
   },
   "file_extension": ".py",
   "mimetype": "text/x-python",
   "name": "python",
   "nbconvert_exporter": "python",
   "pygments_lexer": "ipython3",
   "version": "3.11.5"
  }
 },
 "nbformat": 4,
 "nbformat_minor": 5
}
