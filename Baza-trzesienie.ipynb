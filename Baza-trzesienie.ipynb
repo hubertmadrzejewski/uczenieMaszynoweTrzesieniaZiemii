{
 "cells": [
  {
   "cell_type": "code",
   "execution_count": 2,
   "id": "1f2c7ade-e074-48a5-932e-abc2aed9628d",
   "metadata": {
    "tags": []
   },
   "outputs": [
    {
     "ename": "NameError",
     "evalue": "name 'EarthquakePredictor' is not defined",
     "output_type": "error",
     "traceback": [
      "\u001b[0;31m---------------------------------------------------------------------------\u001b[0m",
      "\u001b[0;31mNameError\u001b[0m                                 Traceback (most recent call last)",
      "Cell \u001b[0;32mIn[2], line 1\u001b[0m\n\u001b[0;32m----> 1\u001b[0m earthquake_predictor \u001b[38;5;241m=\u001b[39m EarthquakePredictor(\u001b[38;5;124m'\u001b[39m\u001b[38;5;124mdatabase.csv\u001b[39m\u001b[38;5;124m'\u001b[39m)\n",
      "\u001b[0;31mNameError\u001b[0m: name 'EarthquakePredictor' is not defined"
     ]
    }
   ],
   "source": [
    "%run -i earthquake_predictor.ipynb\n",
    "earthquake_predictor = EarthquakePredictor('database.csv')"
   ]
  },
  {
   "cell_type": "code",
   "execution_count": null,
   "id": "1ec95a09-9bf4-46ab-93ff-e13a28145ec7",
   "metadata": {
    "tags": []
   },
   "outputs": [],
   "source": [
    "earthquake_predictor.display_summary_statistics()"
   ]
  },
  {
   "cell_type": "code",
   "execution_count": null,
   "id": "d2c66a44-002e-436a-9d62-7f439f7e81ce",
   "metadata": {
    "tags": []
   },
   "outputs": [],
   "source": [
    "earthquake_predictor.display_info()"
   ]
  },
  {
   "cell_type": "code",
   "execution_count": null,
   "id": "6b2c6e09-8a38-4c17-824b-4824fab4d7ed",
   "metadata": {
    "tags": []
   },
   "outputs": [],
   "source": [
    "earthquake_predictor.display_whole_tab()"
   ]
  },
  {
   "cell_type": "code",
   "execution_count": null,
   "id": "3afa5b63-47dc-4cb5-bea9-a2a1e823c527",
   "metadata": {
    "tags": []
   },
   "outputs": [],
   "source": [
    "earthquake_predictor.check_missing_values()"
   ]
  },
  {
   "cell_type": "code",
   "execution_count": null,
   "id": "58111c9a-b9b0-4207-8805-93f937254bde",
   "metadata": {
    "tags": []
   },
   "outputs": [],
   "source": [
    "earthquake_predictor.display_data_distribution()"
   ]
  },
  {
   "cell_type": "code",
   "execution_count": null,
   "id": "f56581a6-71da-4ec7-b105-8261b16a8a96",
   "metadata": {
    "tags": []
   },
   "outputs": [],
   "source": [
    "columns_to_remove = ['Time', 'Type', 'Magnitude Error', 'Date', 'Depth Error', 'Depth Seismic Stations',\n",
    "                     'Magnitude Type', 'Magnitude Seismic Stations', 'Azimuthal Gap', 'Horizontal Distance',\n",
    "                     'Horizontal Error', 'Root Mean Square', 'ID', 'Source', 'Location Source', 'Magnitude Source',\n",
    "                     'Status']\n",
    "earthquake_predictor.remove_not_needed_columns(columns_to_remove)"
   ]
  },
  {
   "cell_type": "code",
   "execution_count": null,
   "id": "5a81380f-54db-412b-8b3d-3bb969195208",
   "metadata": {
    "tags": []
   },
   "outputs": [],
   "source": [
    "earthquake_predictor.display_box_plots()"
   ]
  },
  {
   "cell_type": "code",
   "execution_count": null,
   "id": "aec42fbc-15de-4699-88a8-563a68f96e91",
   "metadata": {
    "tags": []
   },
   "outputs": [],
   "source": [
    "earthquake_predictor.display_correlation_matrix()"
   ]
  },
  {
   "cell_type": "code",
   "execution_count": null,
   "id": "e304ae40-ebb9-4521-987b-8280bcc29456",
   "metadata": {
    "tags": []
   },
   "outputs": [],
   "source": [
    "earthquake_predictor.train_linear_regression()"
   ]
  },
  {
   "cell_type": "code",
   "execution_count": null,
   "id": "ff8eba7f-5325-48c3-9cde-ac4a66cb6984",
   "metadata": {
    "tags": []
   },
   "outputs": [],
   "source": [
    "earthquake_predictor.train_random_forest(n_estimators=100, random_state=0, model_name='Random Forest (Default)')"
   ]
  },
  {
   "cell_type": "code",
   "execution_count": null,
   "id": "270a3b14-1acf-49c6-a2e3-35a9fbc050ca",
   "metadata": {
    "tags": []
   },
   "outputs": [],
   "source": [
    "earthquake_predictor.train_random_forest(n_estimators=10, random_state=0, model_name='Random Forest (Adjusted)')"
   ]
  },
  {
   "cell_type": "code",
   "execution_count": null,
   "id": "70e8f404-daf8-46f1-b736-01de776fda8b",
   "metadata": {
    "tags": []
   },
   "outputs": [],
   "source": [
    "df_compare_first_two, _ = earthquake_predictor.compare_models()\n",
    "df_compare_first_two.plot(kind='bar', title='Comparison of First Two Models')\n",
    "plt.show()"
   ]
  },
  {
   "cell_type": "code",
   "execution_count": null,
   "id": "2e98313f-a5cf-44e8-aa83-eca14bbcdb3e",
   "metadata": {
    "tags": []
   },
   "outputs": [],
   "source": [
    "_, df_compare_all = earthquake_predictor.compare_models()\n",
    "df_compare_all.plot(kind='bar', title='Comparison of All Models')\n",
    "plt.show()"
   ]
  },
  {
   "cell_type": "code",
   "execution_count": null,
   "id": "6a30509f-23a6-4df8-9db7-d1b6faad3b50",
   "metadata": {
    "tags": []
   },
   "outputs": [],
   "source": [
    "test_data = [[19, 145]]  # Adjust the features according to your model\n",
    "earthquake_predictor.manual_prediction_test(test_data)"
   ]
  }
 ],
 "metadata": {
  "kernelspec": {
   "display_name": "Python 3 (ipykernel)",
   "language": "python",
   "name": "python3"
  },
  "language_info": {
   "codemirror_mode": {
    "name": "ipython",
    "version": 3
   },
   "file_extension": ".py",
   "mimetype": "text/x-python",
   "name": "python",
   "nbconvert_exporter": "python",
   "pygments_lexer": "ipython3",
   "version": "3.11.5"
  }
 },
 "nbformat": 4,
 "nbformat_minor": 5
}
